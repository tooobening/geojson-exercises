{
 "cells": [
  {
   "cell_type": "code",
   "id": "initial_id",
   "metadata": {
    "collapsed": true,
    "ExecuteTime": {
     "end_time": "2024-10-23T01:54:01.771692Z",
     "start_time": "2024-10-23T01:54:01.762479Z"
    }
   },
   "source": "import json",
   "outputs": [],
   "execution_count": 275
  },
  {
   "metadata": {},
   "cell_type": "markdown",
   "source": [
    "## Exercise1: Point Feature\n",
    "Create a simple Point feature for San Francisco. Include 2 properties: name and country. The coordinates are -122.4194, 37.7749."
   ],
   "id": "3d16c29036547b14"
  },
  {
   "metadata": {
    "ExecuteTime": {
     "end_time": "2024-10-23T01:54:02.102455Z",
     "start_time": "2024-10-23T01:54:02.089978Z"
    }
   },
   "cell_type": "code",
   "source": [
    "coords, name, country = [-122.4194, 37.7749], 'San Francisco', 'USA'\n",
    "point_feature_template = {\n",
    "    'type': 'Feature',\n",
    "    'geometry':{\n",
    "        'type': 'Point',\n",
    "        'coordinates': coords\n",
    "    },\n",
    "    'properties':{\n",
    "        'name': name,\n",
    "        'country': country\n",
    "    }\n",
    "}\n",
    "print(point_feature_template)"
   ],
   "id": "345f35a3ce3c0b1c",
   "outputs": [
    {
     "name": "stdout",
     "output_type": "stream",
     "text": [
      "{'type': 'Feature', 'geometry': {'type': 'Point', 'coordinates': [-122.4194, 37.7749]}, 'properties': {'name': 'San Francisco', 'country': 'USA'}}\n"
     ]
    }
   ],
   "execution_count": 276
  },
  {
   "metadata": {},
   "cell_type": "markdown",
   "source": [
    "## Exercise2: FeatureCollection\n",
    "Create a FeatureCollection with Point features for three cities: New York (-74.006, 40.7128), Los Angeles (-118.2437, 34.0522), and Chicago (-87.6298, 41.8781). Use list comprehension to create the features."
   ],
   "id": "7c45029c0cd85ca1"
  },
  {
   "metadata": {
    "ExecuteTime": {
     "end_time": "2024-10-23T01:54:02.151501Z",
     "start_time": "2024-10-23T01:54:02.133026Z"
    }
   },
   "cell_type": "code",
   "source": [
    "cities = [('New York', [-74.006, 40.7128]),('Los Angeles',[-118.2437, 34.0522]),('Chicago', [-87.6298, 41.8781])]\n",
    "\n",
    "feature_collection = {\n",
    "    \"type\": \"FeatureCollection\",\n",
    "    \"features\": []\n",
    "}\n",
    "\n",
    "for cityName, coords in cities:\n",
    "    point_feature_template1 = {\n",
    "        \"type\": \"Feature\",\n",
    "        \"geometry\":{\n",
    "            \"type\": \"Point\",\n",
    "            \"coordinates\": coords\n",
    "        },\n",
    "        \"properties\":{\n",
    "            \"name\": cityName\n",
    "            #\"population\": 5402499\n",
    "        }\n",
    "    }\n",
    "    feature_collection['features'].append(point_feature_template1)\n",
    "\n",
    "# print the featurecollection string with indent=2\n",
    "str_feature_collection = json.dumps(feature_collection, indent=2)\n",
    "print(str_feature_collection)\n",
    "\n",
    "# check the feature count\n",
    "print(f\"\\nThe number of features are {len(feature_collection['features'])}.\")"
   ],
   "id": "66073eb1c094ecef",
   "outputs": [
    {
     "name": "stdout",
     "output_type": "stream",
     "text": [
      "{\n",
      "  \"type\": \"FeatureCollection\",\n",
      "  \"features\": [\n",
      "    {\n",
      "      \"type\": \"Feature\",\n",
      "      \"geometry\": {\n",
      "        \"type\": \"Point\",\n",
      "        \"coordinates\": [\n",
      "          -74.006,\n",
      "          40.7128\n",
      "        ]\n",
      "      },\n",
      "      \"properties\": {\n",
      "        \"name\": \"New York\"\n",
      "      }\n",
      "    },\n",
      "    {\n",
      "      \"type\": \"Feature\",\n",
      "      \"geometry\": {\n",
      "        \"type\": \"Point\",\n",
      "        \"coordinates\": [\n",
      "          -118.2437,\n",
      "          34.0522\n",
      "        ]\n",
      "      },\n",
      "      \"properties\": {\n",
      "        \"name\": \"Los Angeles\"\n",
      "      }\n",
      "    },\n",
      "    {\n",
      "      \"type\": \"Feature\",\n",
      "      \"geometry\": {\n",
      "        \"type\": \"Point\",\n",
      "        \"coordinates\": [\n",
      "          -87.6298,\n",
      "          41.8781\n",
      "        ]\n",
      "      },\n",
      "      \"properties\": {\n",
      "        \"name\": \"Chicago\"\n",
      "      }\n",
      "    }\n",
      "  ]\n",
      "}\n",
      "\n",
      "The number of features are 3.\n"
     ]
    }
   ],
   "execution_count": 277
  },
  {
   "metadata": {
    "ExecuteTime": {
     "end_time": "2024-10-23T01:54:02.278405Z",
     "start_time": "2024-10-23T01:54:02.264459Z"
    }
   },
   "cell_type": "code",
   "source": [
    "'''\n",
    "Create the FeatureCollection using list comprehension\n",
    "Basic List Comprehension: [expression for item in iterable]\n",
    "\n",
    "Advantages of using List Comprehension:\n",
    "\n",
    "- More concise code\n",
    "- More readable (once you're familiar with the syntax)\n",
    "- Generally better performance\n",
    "- More Pythonic (follows Python's coding style conventions)\n",
    "\n",
    "This style is particularly suitable for:\n",
    "\n",
    "- Creating new lists based on an iterable  --> Geojson['feature'] is a list containing multiple features objects(dict).\n",
    "- When each element needs the same transformation  --> Features in the list \"cities\" are all Point.\n",
    "- Uniform data structures  --> The feature object in a featurecollection object has the same Geojson struture.\n",
    "- Simple transformations without complex conditions (although list comprehensions do support conditions)\n",
    "'''\n",
    "\n",
    "feature_collection1 = {\n",
    "    \"type\": \"FeatureCollection\",\n",
    "    \"features\": [\n",
    "        {\n",
    "            \"type\": \"Feature\",\n",
    "            \"geometry\": {\n",
    "                \"type\": \"Point\",\n",
    "                \"coordinates\": coords  # Note: GeoJSON uses [longitude, latitude] order\n",
    "            },\n",
    "            \"properties\": {\n",
    "                \"name\": name\n",
    "            }\n",
    "        }\n",
    "        for name, coords in cities  # This is the list comprehension part\n",
    "    ]\n",
    "}\n",
    "\n",
    "print(feature_collection1)\n",
    "print(\"\\n\",feature_collection1.keys())\n",
    "print(\"\\n\",[ ele['properties']['name'] for ele in feature_collection1['features']])"
   ],
   "id": "71c1c87fb94d6fd8",
   "outputs": [
    {
     "name": "stdout",
     "output_type": "stream",
     "text": [
      "{'type': 'FeatureCollection', 'features': [{'type': 'Feature', 'geometry': {'type': 'Point', 'coordinates': [-74.006, 40.7128]}, 'properties': {'name': 'New York'}}, {'type': 'Feature', 'geometry': {'type': 'Point', 'coordinates': [-118.2437, 34.0522]}, 'properties': {'name': 'Los Angeles'}}, {'type': 'Feature', 'geometry': {'type': 'Point', 'coordinates': [-87.6298, 41.8781]}, 'properties': {'name': 'Chicago'}}]}\n",
      "\n",
      " dict_keys(['type', 'features'])\n",
      "\n",
      " ['New York', 'Los Angeles', 'Chicago']\n"
     ]
    }
   ],
   "execution_count": 278
  },
  {
   "metadata": {},
   "cell_type": "markdown",
   "source": [
    "## Exercise3: LineString Feature\n",
    "Create a LineString feature representing a flight path from San Francisco to New York to London. Use the coordinates: San Francisco (-122.4194, 37.7749), New York (-74.006, 40.7128), and London (-0.1276, 51.5074). Add a property \"name\" with the value \"International Flight Path\"."
   ],
   "id": "82d557b33ab78d2c"
  },
  {
   "metadata": {
    "ExecuteTime": {
     "end_time": "2024-10-23T01:54:02.366164Z",
     "start_time": "2024-10-23T01:54:02.354914Z"
    }
   },
   "cell_type": "code",
   "source": [
    "name = \"International Flight Path\"\n",
    "coords = [[-122.4194, 37.7749], [-74.006, 40.7128], [-0.1276, 51.5074]]\n",
    "\n",
    "LineString_feature_template = {\n",
    "    'type': 'Feature',\n",
    "    'geometry':{\n",
    "        'type': 'LineString',\n",
    "        'coordinates': coords  # same array structure [ [lon,lat], [lon,lat], ... ] as MultiPoint\n",
    "    },\n",
    "    'properties':{\n",
    "        'name': name,\n",
    "    }\n",
    "}\n",
    "\n",
    "str_LineString_feature = json.dumps(LineString_feature_template, indent=2)\n",
    "print(str_LineString_feature)"
   ],
   "id": "b84ea7563de43033",
   "outputs": [
    {
     "name": "stdout",
     "output_type": "stream",
     "text": [
      "{\n",
      "  \"type\": \"Feature\",\n",
      "  \"geometry\": {\n",
      "    \"type\": \"LineString\",\n",
      "    \"coordinates\": [\n",
      "      [\n",
      "        -122.4194,\n",
      "        37.7749\n",
      "      ],\n",
      "      [\n",
      "        -74.006,\n",
      "        40.7128\n",
      "      ],\n",
      "      [\n",
      "        -0.1276,\n",
      "        51.5074\n",
      "      ]\n",
      "    ]\n",
      "  },\n",
      "  \"properties\": {\n",
      "    \"name\": \"International Flight Path\"\n",
      "  }\n",
      "}\n"
     ]
    }
   ],
   "execution_count": 279
  },
  {
   "metadata": {},
   "cell_type": "markdown",
   "source": [
    "## Exercise4: Polygon Feature\n",
    "Create a Polygon feature representing the approximate boundaries of Golden Gate Park in San Francisco. Use these coordinates for the polygon:\n",
    "[(-122.4194, 37.7749), (-122.4099, 37.7912), (-122.3984, 37.7860), (-122.4082, 37.7694), (-122.4194, 37.7749)]\n",
    "Add a property \"name\" with the value \"Golden Gate Park\"."
   ],
   "id": "485b1907921e8200"
  },
  {
   "metadata": {
    "ExecuteTime": {
     "end_time": "2024-10-23T01:54:02.490237Z",
     "start_time": "2024-10-23T01:54:02.478666Z"
    }
   },
   "cell_type": "code",
   "source": [
    "coords = [(-122.4194, 37.7749), (-122.4099, 37.7912), (-122.3984, 37.7860), (-122.4082, 37.7694), (-122.4194, 37.7749)]\n",
    "coords_new = [[lon, lat] for lon, lat in coords]\n",
    "\n",
    "print(coords_new)"
   ],
   "id": "2d9f336829e6ef72",
   "outputs": [
    {
     "name": "stdout",
     "output_type": "stream",
     "text": [
      "[[-122.4194, 37.7749], [-122.4099, 37.7912], [-122.3984, 37.786], [-122.4082, 37.7694], [-122.4194, 37.7749]]\n"
     ]
    }
   ],
   "execution_count": 280
  },
  {
   "metadata": {
    "ExecuteTime": {
     "end_time": "2024-10-23T01:54:02.542409Z",
     "start_time": "2024-10-23T01:54:02.526186Z"
    }
   },
   "cell_type": "code",
   "source": [
    "name = \"Golden Gate Park\"\n",
    "\n",
    "polygon_feature_template = {\n",
    "    'type': 'Feature',\n",
    "    'geometry':{\n",
    "        'type': 'Polygon',\n",
    "        'coordinates': [  # First array: for multiple linear rings (outer ring and optional holes)\n",
    "            coords_new  # Second array: list of positions\n",
    "        ]\n",
    "    },\n",
    "    'properties':{\n",
    "        'name': name,\n",
    "    }\n",
    "}\n",
    "str_polygon_feature = json.dumps(polygon_feature_template, indent=2)\n",
    "print(str_polygon_feature)"
   ],
   "id": "148f07c793a072f6",
   "outputs": [
    {
     "name": "stdout",
     "output_type": "stream",
     "text": [
      "{\n",
      "  \"type\": \"Feature\",\n",
      "  \"geometry\": {\n",
      "    \"type\": \"Polygon\",\n",
      "    \"coordinates\": [\n",
      "      [\n",
      "        [\n",
      "          -122.4194,\n",
      "          37.7749\n",
      "        ],\n",
      "        [\n",
      "          -122.4099,\n",
      "          37.7912\n",
      "        ],\n",
      "        [\n",
      "          -122.3984,\n",
      "          37.786\n",
      "        ],\n",
      "        [\n",
      "          -122.4082,\n",
      "          37.7694\n",
      "        ],\n",
      "        [\n",
      "          -122.4194,\n",
      "          37.7749\n",
      "        ]\n",
      "      ]\n",
      "    ]\n",
      "  },\n",
      "  \"properties\": {\n",
      "    \"name\": \"Golden Gate Park\"\n",
      "  }\n",
      "}\n"
     ]
    }
   ],
   "execution_count": 281
  },
  {
   "metadata": {},
   "cell_type": "markdown",
   "source": [
    "## Exercise5: Add elevation data\n",
    "Use dictionary comprehension to add elevation data to the cities from exercise 2. Elevation data: San Francisco (16m), New York (10m), Los Angeles (89m), Chicago (182m)."
   ],
   "id": "a3b5902d151d4162"
  },
  {
   "metadata": {
    "ExecuteTime": {
     "end_time": "2024-10-23T01:54:02.649784Z",
     "start_time": "2024-10-23T01:54:02.634312Z"
    }
   },
   "cell_type": "code",
   "source": [
    "list_cityName = [x['properties']['name'] for x in feature_collection['features']]\n",
    "list_cityName"
   ],
   "id": "b9b43a4f71036872",
   "outputs": [
    {
     "data": {
      "text/plain": [
       "['New York', 'Los Angeles', 'Chicago']"
      ]
     },
     "execution_count": 282,
     "metadata": {},
     "output_type": "execute_result"
    }
   ],
   "execution_count": 282
  },
  {
   "metadata": {
    "ExecuteTime": {
     "end_time": "2024-10-23T01:54:02.759804Z",
     "start_time": "2024-10-23T01:54:02.746541Z"
    }
   },
   "cell_type": "code",
   "source": [
    "elevation_data = [10, 89, 182]\n",
    "i = 0\n",
    "for ele in feature_collection['features']:\n",
    "    ele['geometry']['coordinates'].append(elevation_data[i])\n",
    "    print(ele['geometry']['coordinates'])\n",
    "    i += 1"
   ],
   "id": "97a8c180435517b3",
   "outputs": [
    {
     "name": "stdout",
     "output_type": "stream",
     "text": [
      "[-74.006, 40.7128, 10]\n",
      "[-118.2437, 34.0522, 89]\n",
      "[-87.6298, 41.8781, 182]\n"
     ]
    }
   ],
   "execution_count": 283
  },
  {
   "metadata": {
    "ExecuteTime": {
     "end_time": "2024-10-23T01:54:02.950422Z",
     "start_time": "2024-10-23T01:54:02.939547Z"
    }
   },
   "cell_type": "code",
   "source": "print (json.dumps(feature_collection, indent=2))",
   "id": "80683be90f55e567",
   "outputs": [
    {
     "name": "stdout",
     "output_type": "stream",
     "text": [
      "{\n",
      "  \"type\": \"FeatureCollection\",\n",
      "  \"features\": [\n",
      "    {\n",
      "      \"type\": \"Feature\",\n",
      "      \"geometry\": {\n",
      "        \"type\": \"Point\",\n",
      "        \"coordinates\": [\n",
      "          -74.006,\n",
      "          40.7128,\n",
      "          10\n",
      "        ]\n",
      "      },\n",
      "      \"properties\": {\n",
      "        \"name\": \"New York\"\n",
      "      }\n",
      "    },\n",
      "    {\n",
      "      \"type\": \"Feature\",\n",
      "      \"geometry\": {\n",
      "        \"type\": \"Point\",\n",
      "        \"coordinates\": [\n",
      "          -118.2437,\n",
      "          34.0522,\n",
      "          89\n",
      "        ]\n",
      "      },\n",
      "      \"properties\": {\n",
      "        \"name\": \"Los Angeles\"\n",
      "      }\n",
      "    },\n",
      "    {\n",
      "      \"type\": \"Feature\",\n",
      "      \"geometry\": {\n",
      "        \"type\": \"Point\",\n",
      "        \"coordinates\": [\n",
      "          -87.6298,\n",
      "          41.8781,\n",
      "          182\n",
      "        ]\n",
      "      },\n",
      "      \"properties\": {\n",
      "        \"name\": \"Chicago\"\n",
      "      }\n",
      "    }\n",
      "  ]\n",
      "}\n"
     ]
    }
   ],
   "execution_count": 284
  },
  {
   "metadata": {},
   "cell_type": "markdown",
   "source": "## Exercise6: Filter the features from exercise 5 to include only cities with an elevation greater than 50 meters. Use dictionary comprehension for this task.",
   "id": "e037b730082de28b"
  },
  {
   "metadata": {
    "ExecuteTime": {
     "end_time": "2024-10-23T01:54:03.015931Z",
     "start_time": "2024-10-23T01:54:03.001698Z"
    }
   },
   "cell_type": "code",
   "source": [
    "for feature in feature_collection['features']:\n",
    "    if feature['geometry']['coordinates'][-1] <= 50:\n",
    "        feature_collection['features'].remove(feature)\n",
    "print(json.dumps(feature_collection, indent=2))"
   ],
   "id": "5e4c510350aef998",
   "outputs": [
    {
     "name": "stdout",
     "output_type": "stream",
     "text": [
      "{\n",
      "  \"type\": \"FeatureCollection\",\n",
      "  \"features\": [\n",
      "    {\n",
      "      \"type\": \"Feature\",\n",
      "      \"geometry\": {\n",
      "        \"type\": \"Point\",\n",
      "        \"coordinates\": [\n",
      "          -118.2437,\n",
      "          34.0522,\n",
      "          89\n",
      "        ]\n",
      "      },\n",
      "      \"properties\": {\n",
      "        \"name\": \"Los Angeles\"\n",
      "      }\n",
      "    },\n",
      "    {\n",
      "      \"type\": \"Feature\",\n",
      "      \"geometry\": {\n",
      "        \"type\": \"Point\",\n",
      "        \"coordinates\": [\n",
      "          -87.6298,\n",
      "          41.8781,\n",
      "          182\n",
      "        ]\n",
      "      },\n",
      "      \"properties\": {\n",
      "        \"name\": \"Chicago\"\n",
      "      }\n",
      "    }\n",
      "  ]\n",
      "}\n"
     ]
    }
   ],
   "execution_count": 285
  },
  {
   "metadata": {
    "ExecuteTime": {
     "end_time": "2024-10-23T01:54:03.207689Z",
     "start_time": "2024-10-23T01:54:03.195839Z"
    }
   },
   "cell_type": "code",
   "source": [
    "# check the feature count after filtering\n",
    "print(f\"\\nThe number of features are {len(feature_collection['features'])}.\")"
   ],
   "id": "f10573a0733a931c",
   "outputs": [
    {
     "name": "stdout",
     "output_type": "stream",
     "text": [
      "\n",
      "The number of features are 2.\n"
     ]
    }
   ],
   "execution_count": 286
  },
  {
   "metadata": {},
   "cell_type": "markdown",
   "source": [
    "## Exercise7: MultiPoint Feature\n",
    "Create a MultiPoint feature from the locations of three major tech company headquarters: Apple (-122.0312, 37.3318), Google (-122.0842, 37.4220), and Facebook (-122.1484, 37.4848). Add a property \"name\" with the value \"Tech Giants HQ\"."
   ],
   "id": "b3eea6a471be8d6"
  },
  {
   "metadata": {
    "ExecuteTime": {
     "end_time": "2024-10-23T01:54:03.320110Z",
     "start_time": "2024-10-23T01:54:03.307041Z"
    }
   },
   "cell_type": "code",
   "source": [
    "name = 'Tech Giants HQ'\n",
    "coords = [[lon, lat] for lon, lat in [(-122.0312, 37.3318), (-122.0842, 37.4220), (-122.1484, 37.4848)]]\n",
    "\n",
    "multipoint_feature_template = {\n",
    "    'type': 'Feature',\n",
    "    'geometry':{\n",
    "        'type': 'MultiPoint',\n",
    "        'coordinates': coords # same array structure [ [lon,lat], [lon,lat], ... ] as LineString\n",
    "    },\n",
    "    'properties':{\n",
    "        'name': name\n",
    "    }\n",
    "}\n",
    "\n",
    "print(multipoint_feature_template)"
   ],
   "id": "ad53cebf7ca9e686",
   "outputs": [
    {
     "name": "stdout",
     "output_type": "stream",
     "text": [
      "{'type': 'Feature', 'geometry': {'type': 'MultiPoint', 'coordinates': [[-122.0312, 37.3318], [-122.0842, 37.422], [-122.1484, 37.4848]]}, 'properties': {'name': 'Tech Giants HQ'}}\n"
     ]
    }
   ],
   "execution_count": 287
  },
  {
   "metadata": {},
   "cell_type": "markdown",
   "source": [
    "## Exercise8: generate_point_geojson()\n",
    "Create a function to generate a GeoJSON Point feature, then use it with dictionary comprehension to create features for these world cities (include country and population as properties):\n",
    "\n",
    "Tokyo (139.6917, 35.6895), Japan, 37,400,000\n",
    "Delhi (77.1025, 28.7041), India, 31,399,000\n",
    "Shanghai (121.4737, 31.2304), China, 27,058,000\n"
   ],
   "id": "30f355a473786162"
  },
  {
   "metadata": {
    "ExecuteTime": {
     "end_time": "2024-10-23T01:54:03.451984Z",
     "start_time": "2024-10-23T01:54:03.442637Z"
    }
   },
   "cell_type": "code",
   "source": [
    "def generate_point_geojson(cityName, coords, country, pop):\n",
    "    feature_template = {\n",
    "        'type': 'Feature',\n",
    "        'geometry': {\n",
    "            'type': 'Point',\n",
    "            'coordinates': [coords[0], coords[1]]\n",
    "        },\n",
    "        'properties':{\n",
    "            'name': cityName,\n",
    "            'country': country,\n",
    "            'population': pop\n",
    "        }\n",
    "    }\n",
    "    return feature_template"
   ],
   "id": "721f833683e0bc8d",
   "outputs": [],
   "execution_count": 288
  },
  {
   "metadata": {
    "ExecuteTime": {
     "end_time": "2024-10-23T01:54:03.524272Z",
     "start_time": "2024-10-23T01:54:03.514948Z"
    }
   },
   "cell_type": "code",
   "source": [
    "# run the function to create Point features\n",
    "\n",
    "tokyo = generate_point_geojson('Tokyo', (139.6917, 35.6895), 'Japan', 37400000)\n",
    "delhi = generate_point_geojson('Delhi', (77.1025, 28.7041), 'India', 31399000)\n",
    "shanghai = generate_point_geojson('Shanghai', (121.4737, 31.2304), 'China', 27058000)\n",
    "\n",
    "feature_collection2 = {\n",
    "    'type': 'FeatureCollection',\n",
    "    'features': [obj for obj in [tokyo, delhi, shanghai]]\n",
    "}"
   ],
   "id": "ba4d20d4c86a5dea",
   "outputs": [],
   "execution_count": 289
  },
  {
   "metadata": {
    "ExecuteTime": {
     "end_time": "2024-10-23T01:54:03.593400Z",
     "start_time": "2024-10-23T01:54:03.584093Z"
    }
   },
   "cell_type": "code",
   "source": "print(json.dumps(feature_collection2, indent=2))",
   "id": "30bf4c1b3bf092b5",
   "outputs": [
    {
     "name": "stdout",
     "output_type": "stream",
     "text": [
      "{\n",
      "  \"type\": \"FeatureCollection\",\n",
      "  \"features\": [\n",
      "    {\n",
      "      \"type\": \"Feature\",\n",
      "      \"geometry\": {\n",
      "        \"type\": \"Point\",\n",
      "        \"coordinates\": [\n",
      "          139.6917,\n",
      "          35.6895\n",
      "        ]\n",
      "      },\n",
      "      \"properties\": {\n",
      "        \"name\": \"Tokyo\",\n",
      "        \"country\": \"Japan\",\n",
      "        \"population\": 37400000\n",
      "      }\n",
      "    },\n",
      "    {\n",
      "      \"type\": \"Feature\",\n",
      "      \"geometry\": {\n",
      "        \"type\": \"Point\",\n",
      "        \"coordinates\": [\n",
      "          77.1025,\n",
      "          28.7041\n",
      "        ]\n",
      "      },\n",
      "      \"properties\": {\n",
      "        \"name\": \"Delhi\",\n",
      "        \"country\": \"India\",\n",
      "        \"population\": 31399000\n",
      "      }\n",
      "    },\n",
      "    {\n",
      "      \"type\": \"Feature\",\n",
      "      \"geometry\": {\n",
      "        \"type\": \"Point\",\n",
      "        \"coordinates\": [\n",
      "          121.4737,\n",
      "          31.2304\n",
      "        ]\n",
      "      },\n",
      "      \"properties\": {\n",
      "        \"name\": \"Shanghai\",\n",
      "        \"country\": \"China\",\n",
      "        \"population\": 27058000\n",
      "      }\n",
      "    }\n",
      "  ]\n",
      "}\n"
     ]
    }
   ],
   "execution_count": 290
  },
  {
   "metadata": {},
   "cell_type": "markdown",
   "source": [
    "## Exercise9:  FeatureCollection\n",
    "Combine the GeoJSON objects from exercises 1, 3, 4, and 7 into a single FeatureCollection. Add the world cities from exercise 8 to this collection as well."
   ],
   "id": "97baf0dc3908696a"
  },
  {
   "metadata": {
    "ExecuteTime": {
     "end_time": "2024-10-23T01:54:03.673317Z",
     "start_time": "2024-10-23T01:54:03.661373Z"
    }
   },
   "cell_type": "code",
   "source": [
    "Feature_list = [point_feature_template, LineString_feature_template, polygon_feature_template, multipoint_feature_template]\n",
    "# add world cities from exercise 8\n",
    "Feature_list.extend([tokyo, delhi, shanghai])\n",
    "\n",
    "feature_collection3 = {\n",
    "    'type': 'FeatureCollection',\n",
    "    'features': Feature_list\n",
    "}\n",
    "\n",
    "print(json.dumps(feature_collection3, indent=2))\n",
    "# # update the object's feature\n",
    "# feature_collection3['features']= Feature_list\n",
    "# \n",
    "# print(json.dumps(feature_collection3, indent=2))"
   ],
   "id": "eb651aeef7535b67",
   "outputs": [
    {
     "name": "stdout",
     "output_type": "stream",
     "text": [
      "{\n",
      "  \"type\": \"FeatureCollection\",\n",
      "  \"features\": [\n",
      "    {\n",
      "      \"type\": \"Feature\",\n",
      "      \"geometry\": {\n",
      "        \"type\": \"Point\",\n",
      "        \"coordinates\": [\n",
      "          -122.4194,\n",
      "          37.7749\n",
      "        ]\n",
      "      },\n",
      "      \"properties\": {\n",
      "        \"name\": \"San Francisco\",\n",
      "        \"country\": \"USA\"\n",
      "      }\n",
      "    },\n",
      "    {\n",
      "      \"type\": \"Feature\",\n",
      "      \"geometry\": {\n",
      "        \"type\": \"LineString\",\n",
      "        \"coordinates\": [\n",
      "          [\n",
      "            -122.4194,\n",
      "            37.7749\n",
      "          ],\n",
      "          [\n",
      "            -74.006,\n",
      "            40.7128\n",
      "          ],\n",
      "          [\n",
      "            -0.1276,\n",
      "            51.5074\n",
      "          ]\n",
      "        ]\n",
      "      },\n",
      "      \"properties\": {\n",
      "        \"name\": \"International Flight Path\"\n",
      "      }\n",
      "    },\n",
      "    {\n",
      "      \"type\": \"Feature\",\n",
      "      \"geometry\": {\n",
      "        \"type\": \"Polygon\",\n",
      "        \"coordinates\": [\n",
      "          [\n",
      "            [\n",
      "              -122.4194,\n",
      "              37.7749\n",
      "            ],\n",
      "            [\n",
      "              -122.4099,\n",
      "              37.7912\n",
      "            ],\n",
      "            [\n",
      "              -122.3984,\n",
      "              37.786\n",
      "            ],\n",
      "            [\n",
      "              -122.4082,\n",
      "              37.7694\n",
      "            ],\n",
      "            [\n",
      "              -122.4194,\n",
      "              37.7749\n",
      "            ]\n",
      "          ]\n",
      "        ]\n",
      "      },\n",
      "      \"properties\": {\n",
      "        \"name\": \"Golden Gate Park\"\n",
      "      }\n",
      "    },\n",
      "    {\n",
      "      \"type\": \"Feature\",\n",
      "      \"geometry\": {\n",
      "        \"type\": \"MultiPoint\",\n",
      "        \"coordinates\": [\n",
      "          [\n",
      "            -122.0312,\n",
      "            37.3318\n",
      "          ],\n",
      "          [\n",
      "            -122.0842,\n",
      "            37.422\n",
      "          ],\n",
      "          [\n",
      "            -122.1484,\n",
      "            37.4848\n",
      "          ]\n",
      "        ]\n",
      "      },\n",
      "      \"properties\": {\n",
      "        \"name\": \"Tech Giants HQ\"\n",
      "      }\n",
      "    },\n",
      "    {\n",
      "      \"type\": \"Feature\",\n",
      "      \"geometry\": {\n",
      "        \"type\": \"Point\",\n",
      "        \"coordinates\": [\n",
      "          139.6917,\n",
      "          35.6895\n",
      "        ]\n",
      "      },\n",
      "      \"properties\": {\n",
      "        \"name\": \"Tokyo\",\n",
      "        \"country\": \"Japan\",\n",
      "        \"population\": 37400000\n",
      "      }\n",
      "    },\n",
      "    {\n",
      "      \"type\": \"Feature\",\n",
      "      \"geometry\": {\n",
      "        \"type\": \"Point\",\n",
      "        \"coordinates\": [\n",
      "          77.1025,\n",
      "          28.7041\n",
      "        ]\n",
      "      },\n",
      "      \"properties\": {\n",
      "        \"name\": \"Delhi\",\n",
      "        \"country\": \"India\",\n",
      "        \"population\": 31399000\n",
      "      }\n",
      "    },\n",
      "    {\n",
      "      \"type\": \"Feature\",\n",
      "      \"geometry\": {\n",
      "        \"type\": \"Point\",\n",
      "        \"coordinates\": [\n",
      "          121.4737,\n",
      "          31.2304\n",
      "        ]\n",
      "      },\n",
      "      \"properties\": {\n",
      "        \"name\": \"Shanghai\",\n",
      "        \"country\": \"China\",\n",
      "        \"population\": 27058000\n",
      "      }\n",
      "    }\n",
      "  ]\n",
      "}\n"
     ]
    }
   ],
   "execution_count": 291
  },
  {
   "metadata": {
    "ExecuteTime": {
     "end_time": "2024-10-23T01:54:03.779399Z",
     "start_time": "2024-10-23T01:54:03.767389Z"
    }
   },
   "cell_type": "code",
   "source": "len(Feature_list)",
   "id": "e7e22aa7a23804b5",
   "outputs": [
    {
     "data": {
      "text/plain": [
       "7"
      ]
     },
     "execution_count": 292,
     "metadata": {},
     "output_type": "execute_result"
    }
   ],
   "execution_count": 292
  },
  {
   "metadata": {
    "ExecuteTime": {
     "end_time": "2024-10-23T01:54:03.836940Z",
     "start_time": "2024-10-23T01:54:03.798210Z"
    }
   },
   "cell_type": "code",
   "source": [
    "# Bonus: create a is_geojson(your geojson) function to see if your object has correct Geojson format\n",
    "def validate_geojson(geojson_obj):\n",
    "    \"\"\"\n",
    "    Validate if an object is a valid GeoJSON object.\n",
    "    Returns (bool, str): (is_valid, error_message)\n",
    "    \"\"\"\n",
    "    try:\n",
    "        # Check if it's a dictionary\n",
    "        if not isinstance(geojson_obj, dict):\n",
    "            return False, \"GeoJSON must be a dictionary\"\n",
    "\n",
    "        # Check if it has a \"type\" field\n",
    "        if \"type\" not in geojson_obj:\n",
    "            return False, \"GeoJSON must have a 'type' field\"\n",
    "\n",
    "        # Validate based on type\n",
    "        geojson_type = geojson_obj[\"type\"]\n",
    "        \n",
    "        if geojson_type == \"FeatureCollection\":\n",
    "            return validate_feature_collection(geojson_obj)\n",
    "        elif geojson_type == \"Feature\":\n",
    "            return validate_feature(geojson_obj)\n",
    "        else:\n",
    "            return False, f\"Unsupported GeoJSON type: {geojson_type}\"\n",
    "\n",
    "    except Exception as e:\n",
    "        return False, f\"Validation error: {str(e)}\"\n",
    "\n",
    "def validate_feature_collection(feature_collection):\n",
    "    \"\"\"\n",
    "    Validate a FeatureCollection object\n",
    "    \"\"\"\n",
    "    # Check if it has features array\n",
    "    if \"features\" not in feature_collection:\n",
    "        return False, \"FeatureCollection must have 'features' array\"\n",
    "\n",
    "    features = feature_collection[\"features\"]\n",
    "    if not isinstance(features, list):\n",
    "        return False, \"'features' must be an array\"\n",
    "\n",
    "    # Validate each feature\n",
    "    for i, feature in enumerate(features):\n",
    "        is_valid, error = validate_feature(feature)\n",
    "        if not is_valid:\n",
    "            return False, f\"Invalid feature at index {i}: {error}\"\n",
    "\n",
    "    return True, \"Valid FeatureCollection\"\n",
    "\n",
    "def validate_feature(feature):\n",
    "    \"\"\"\n",
    "    Validate a Feature object\n",
    "    \"\"\"\n",
    "    # Check required fields\n",
    "    if not isinstance(feature, dict):\n",
    "        return False, \"Feature must be a dictionary\"\n",
    "\n",
    "    if \"type\" not in feature or feature[\"type\"] != \"Feature\":\n",
    "        return False, \"Feature must have type 'Feature'\"\n",
    "\n",
    "    if \"geometry\" not in feature:\n",
    "        return False, \"Feature must have 'geometry' field\"\n",
    "\n",
    "    if \"properties\" not in feature:\n",
    "        return False, \"Feature must have 'properties' field\"\n",
    "\n",
    "    # Validate geometry\n",
    "    return validate_geometry(feature[\"geometry\"])\n",
    "\n",
    "def validate_geometry(geometry):\n",
    "    \"\"\"\n",
    "    Validate a geometry object\n",
    "    \"\"\"\n",
    "    if not isinstance(geometry, dict):\n",
    "        return False, \"Geometry must be a dictionary\"\n",
    "\n",
    "    if \"type\" not in geometry:\n",
    "        return False, \"Geometry must have 'type' field\"\n",
    "\n",
    "    if \"coordinates\" not in geometry:\n",
    "        return False, \"Geometry must have 'coordinates' field\"\n",
    "\n",
    "    # Validate based on geometry type\n",
    "    geom_type = geometry[\"type\"]\n",
    "    coordinates = geometry[\"coordinates\"]\n",
    "\n",
    "    try:\n",
    "        if geom_type == \"Point\":\n",
    "            return validate_point_coords(coordinates)\n",
    "        elif geom_type == \"LineString\":\n",
    "            return validate_line_coords(coordinates)\n",
    "        elif geom_type == \"Polygon\":\n",
    "            return validate_polygon_coords(coordinates)\n",
    "        elif geom_type == \"MultiPoint\":\n",
    "            return validate_multi_point_coords(coordinates)\n",
    "        else:\n",
    "            return False, f\"Unsupported geometry type: {geom_type}\"\n",
    "    except Exception as e:\n",
    "        return False, f\"Invalid coordinates for {geom_type}: {str(e)}\"\n",
    "\n",
    "def validate_point_coords(coords):\n",
    "    \"\"\"\n",
    "    Validate Point coordinates [lon, lat]\n",
    "    \"\"\"\n",
    "    if not isinstance(coords, list) or len(coords) != 2:\n",
    "        return False, \"Point coordinates must be [lon, lat]\"\n",
    "    \n",
    "    if not all(isinstance(c, (int, float)) for c in coords):\n",
    "        return False, \"Coordinates must be numbers\"\n",
    "        \n",
    "    lon, lat = coords\n",
    "    if not (-180 <= lon <= 180 and -90 <= lat <= 90):\n",
    "        return False, \"Invalid longitude/latitude values\"\n",
    "        \n",
    "    return True, \"Valid Point coordinates\"\n",
    "\n",
    "def validate_line_coords(coords):\n",
    "    \"\"\"\n",
    "    Validate LineString coordinates [[lon, lat], ...]\n",
    "    \"\"\"\n",
    "    if not isinstance(coords, list) or len(coords) < 2:\n",
    "        return False, \"LineString must have at least 2 points\"\n",
    "        \n",
    "    for point in coords:\n",
    "        is_valid, error = validate_point_coords(point)\n",
    "        if not is_valid:\n",
    "            return False, f\"Invalid point in LineString: {error}\"\n",
    "            \n",
    "    return True, \"Valid LineString coordinates\"\n",
    "\n",
    "def validate_polygon_coords(coords):\n",
    "    \"\"\"\n",
    "    Validate Polygon coordinates [[[lon, lat], ...]]\n",
    "    \"\"\"\n",
    "    if not isinstance(coords, list) or len(coords) < 1:\n",
    "        return False, \"Polygon must have at least one ring\"\n",
    "        \n",
    "    for ring in coords:\n",
    "        if not isinstance(ring, list) or len(ring) < 4:\n",
    "            return False, \"Polygon ring must have at least 4 points\"\n",
    "            \n",
    "        # Check if ring is closed\n",
    "        if ring[0] != ring[-1]:\n",
    "            return False, \"Polygon ring must be closed\"\n",
    "            \n",
    "        for point in ring:\n",
    "            is_valid, error = validate_point_coords(point)\n",
    "            if not is_valid:\n",
    "                return False, f\"Invalid point in Polygon: {error}\"\n",
    "                \n",
    "    return True, \"Valid Polygon coordinates\"\n",
    "\n",
    "def validate_multi_point_coords(coords):\n",
    "    \"\"\"\n",
    "    Validate MultiPoint coordinates [[lon, lat], ...]\n",
    "    \"\"\"\n",
    "    if not isinstance(coords, list):\n",
    "        return False, \"MultiPoint coordinates must be an array\"\n",
    "        \n",
    "    for point in coords:\n",
    "        is_valid, error = validate_point_coords(point)\n",
    "        if not is_valid:\n",
    "            return False, f\"Invalid point in MultiPoint: {error}\"\n",
    "            \n",
    "    return True, \"Valid MultiPoint coordinates\""
   ],
   "id": "5800c20c1d14c477",
   "outputs": [],
   "execution_count": 293
  },
  {
   "metadata": {
    "ExecuteTime": {
     "end_time": "2024-10-23T01:54:03.864114Z",
     "start_time": "2024-10-23T01:54:03.851207Z"
    }
   },
   "cell_type": "code",
   "source": [
    "# Example 1 usage:\n",
    "if __name__ == \"__main__\":\n",
    "    # Test with your GeoJSON object\n",
    "    test_geojson = {\n",
    "        \"type\": \"FeatureCollection\",\n",
    "        \"features\": [\n",
    "            {\n",
    "                \"type\": \"Feature\",\n",
    "                \"geometry\": {\n",
    "                    \"type\": \"Point\",\n",
    "                    \"coordinates\": [-122.4194, 37.7749]\n",
    "                },\n",
    "                \"properties\": {\n",
    "                    \"name\": \"San Francisco\"\n",
    "                }\n",
    "            }\n",
    "        ]\n",
    "    }\n",
    "    \n",
    "    is_valid, message = validate_geojson(test_geojson)\n",
    "    print(f\"test_geojson- Is valid: {is_valid}\")\n",
    "    print(f\"test_geojson- Message: {message}\")"
   ],
   "id": "fd6c0644a47cf652",
   "outputs": [
    {
     "name": "stdout",
     "output_type": "stream",
     "text": [
      "test_geojson- Is valid: True\n",
      "test_geojson- Message: Valid FeatureCollection\n"
     ]
    }
   ],
   "execution_count": 294
  },
  {
   "metadata": {
    "ExecuteTime": {
     "end_time": "2024-10-23T01:54:03.955605Z",
     "start_time": "2024-10-23T01:54:03.944661Z"
    }
   },
   "cell_type": "code",
   "source": [
    "# Example 2:\n",
    "test_geojson1 = {\n",
    "        \"type\": \"FeatureCollection\",\n",
    "        \"features\": [\n",
    "            {\n",
    "                \"type\": \"Feature\",\n",
    "                \"geometry\": {\n",
    "                    \"type\": \"Point\",\n",
    "                    \"coordinates\": []  # no lon/lat info here\n",
    "                },\n",
    "                \"properties\": {\n",
    "                    \"name\": \"San Francisco\"\n",
    "                }\n",
    "            }\n",
    "        ]\n",
    "    }\n",
    "print (f\"test_geojson1- \",validate_geojson(test_geojson1))"
   ],
   "id": "393316f5631758e3",
   "outputs": [
    {
     "name": "stdout",
     "output_type": "stream",
     "text": [
      "test_geojson1-  (False, 'Invalid feature at index 0: Point coordinates must be [lon, lat]')\n"
     ]
    }
   ],
   "execution_count": 295
  },
  {
   "metadata": {
    "ExecuteTime": {
     "end_time": "2024-10-23T01:54:04.045187Z",
     "start_time": "2024-10-23T01:54:04.036631Z"
    }
   },
   "cell_type": "code",
   "source": [
    "# Example 3 for exercise 9:\n",
    "print (validate_geojson(feature_collection3))"
   ],
   "id": "c40c66e57f3b754f",
   "outputs": [
    {
     "name": "stdout",
     "output_type": "stream",
     "text": [
      "(True, 'Valid FeatureCollection')\n"
     ]
    }
   ],
   "execution_count": 296
  },
  {
   "metadata": {},
   "cell_type": "markdown",
   "source": [
    "## Exercise10: calculate_bbox()\n",
    "Calculate the bounding box for the FeatureCollection from exercise 9. The bounding box should be in the format [min_lon, min_lat, max_lon, max_lat]."
   ],
   "id": "dadf1a40c7f9be17"
  },
  {
   "metadata": {
    "ExecuteTime": {
     "end_time": "2024-10-23T01:54:04.124902Z",
     "start_time": "2024-10-23T01:54:04.109186Z"
    }
   },
   "cell_type": "code",
   "source": [
    "# Point: [lon, lat]\n",
    "# MultiPoint: [[lon, lat], [lon, lat], ...]\n",
    "# LineString: [[lon, lat], [lon, lat], ...]\n",
    "# MultiLineString: [[[lon, lat], [lon, lat], ...], [[lon, lat], ...]]\n",
    "# Polygon: [[[lon, lat], [lon, lat], ...]]  # Array of rings\n",
    "# MultiPolygon: [[[[lon, lat], [lon, lat], ...]], [...]]  # Array of polygons\n",
    "\n",
    "def calculate_bbox(geojson_obj):\n",
    "    lon_list = []\n",
    "    lat_list = []\n",
    "    for feature in geojson_obj['features']:\n",
    "        geom_type = feature['geometry']['type']\n",
    "        coords = feature['geometry']['coordinates']  # a coords list\n",
    "        if geom_type == \"Point\":\n",
    "            lon_list.append(coords[0])\n",
    "            lat_list.append(coords[1])\n",
    "        elif geom_type == \"MultiPoint\" or geom_type == \"LineString\":\n",
    "            lon_list_MultiPoint_LineString = [coord[0] for coord in coords]\n",
    "            lat_list_MultiPoint_LineString = [coord[1] for coord in coords]\n",
    "            \n",
    "            lon_list.extend(lon_list_MultiPoint_LineString)\n",
    "            lat_list.extend(lat_list_MultiPoint_LineString)\n",
    "        elif geom_type == \"Polygon\":\n",
    "            lon_list_Polygon = [coord[0] for coord in coords[0]]\n",
    "            lat_list_Polygon = [coord[1] for coord in coords[0]]\n",
    "    \n",
    "            lon_list.extend(lon_list_Polygon)\n",
    "            lat_list.extend(lat_list_Polygon)\n",
    "            \n",
    "    min_lon = min(lon_list)\n",
    "    min_lat = min(lat_list)\n",
    "    max_lon = max(lon_list)\n",
    "    max_lat = max(lat_list)\n",
    "    \n",
    "    return [min_lon, min_lat, max_lon, max_lat]\n"
   ],
   "id": "e69153e2a25e4ce3",
   "outputs": [],
   "execution_count": 297
  },
  {
   "metadata": {
    "ExecuteTime": {
     "end_time": "2024-10-23T01:54:04.260116Z",
     "start_time": "2024-10-23T01:54:04.250497Z"
    }
   },
   "cell_type": "code",
   "source": [
    "feature_collection3_bbox = calculate_bbox(feature_collection3)\n",
    "print (feature_collection3_bbox)"
   ],
   "id": "ca449c1b837b79c",
   "outputs": [
    {
     "name": "stdout",
     "output_type": "stream",
     "text": [
      "[-122.4194, 28.7041, 139.6917, 51.5074]\n"
     ]
    }
   ],
   "execution_count": 298
  },
  {
   "metadata": {},
   "cell_type": "markdown",
   "source": "## Plot the result",
   "id": "7fe48338c9230a83"
  },
  {
   "metadata": {
    "ExecuteTime": {
     "end_time": "2024-10-23T01:54:04.344185Z",
     "start_time": "2024-10-23T01:54:04.336531Z"
    }
   },
   "cell_type": "code",
   "source": [
    "#  Use Terminal to install packages if needed:\n",
    "#  pip install folium geopandas matplotlib shapely\n",
    "import folium\n",
    "from folium import GeoJson"
   ],
   "id": "16ad8607b70ada80",
   "outputs": [],
   "execution_count": 299
  },
  {
   "metadata": {
    "ExecuteTime": {
     "end_time": "2024-10-23T01:54:04.422868Z",
     "start_time": "2024-10-23T01:54:04.407739Z"
    }
   },
   "cell_type": "code",
   "source": [
    "def plot_geojson_with_bbox(geojson_data, bbox):\n",
    "    \"\"\"\n",
    "    Plot GeoJSON and bounding box using folium with simple popups.\n",
    "    \"\"\"\n",
    "    # Create a map centered on the bounding box\n",
    "    m = folium.Map(tiles='OpenStreetMap')\n",
    "\n",
    "    # Add GeoJSON features with simple popups\n",
    "    GeoJson(\n",
    "        geojson_data,\n",
    "        popup=folium.GeoJsonPopup(\n",
    "            fields=['name'],\n",
    "            aliases=['Name:']\n",
    "        )\n",
    "    ).add_to(m)\n",
    "\n",
    "    # Add bounding box\n",
    "    bbox_polygon = {\n",
    "        \"type\": \"Feature\",\n",
    "        \"geometry\": {\n",
    "            \"type\": \"Polygon\",\n",
    "            \"coordinates\": [[\n",
    "                [bbox[0], bbox[1]],\n",
    "                [bbox[2], bbox[1]],\n",
    "                [bbox[2], bbox[3]],\n",
    "                [bbox[0], bbox[3]],\n",
    "                [bbox[0], bbox[1]]\n",
    "            ]]\n",
    "        }\n",
    "    }\n",
    "\n",
    "    # Add bounding box to map with visible style\n",
    "    GeoJson(\n",
    "        bbox_polygon,\n",
    "        style_function=lambda x: {\n",
    "            'fillColor': 'none',\n",
    "            'color': 'red',\n",
    "            'weight': 2\n",
    "        }\n",
    "    ).add_to(m)\n",
    "\n",
    "    # Fit the map to the bounding box\n",
    "    m.fit_bounds([[bbox[1], bbox[0]], [bbox[3], bbox[2]]])\n",
    "\n",
    "    # Wrap the map in a centered HTML container\n",
    "    map_plot = HTML(f\"\"\"\n",
    "        <div style=\"display: flex; justify-content: center;\">\n",
    "            <div style=\"width:50%\">\n",
    "                {m._repr_html_()}\n",
    "            </div>\n",
    "        </div>\n",
    "    \"\"\")\n",
    "\n",
    "    return map_plot"
   ],
   "id": "e2944c84470a89e0",
   "outputs": [],
   "execution_count": 300
  },
  {
   "metadata": {
    "ExecuteTime": {
     "end_time": "2024-10-23T01:54:04.516658Z",
     "start_time": "2024-10-23T01:54:04.470121Z"
    }
   },
   "cell_type": "code",
   "source": [
    "map_plot = plot_geojson_with_bbox(feature_collection3, feature_collection3_bbox)\n",
    "display(map_plot)\n",
    "# map_plot.save('geojson_with_bbox.html')"
   ],
   "id": "d509f63fdbdc103d",
   "outputs": [
    {
     "data": {
      "text/plain": [
       "<IPython.core.display.HTML object>"
      ],
      "text/html": [
       "\n",
       "        <div style=\"display: flex; justify-content: center;\">\n",
       "            <div style=\"width:50%\">\n",
       "                <div style=\"width:100%;\"><div style=\"position:relative;width:100%;height:0;padding-bottom:60%;\"><span style=\"color:#565656\">Make this Notebook Trusted to load map: File -> Trust Notebook</span><iframe srcdoc=\"&lt;!DOCTYPE html&gt;\n",
       "&lt;html&gt;\n",
       "&lt;head&gt;\n",
       "    \n",
       "    &lt;meta http-equiv=&quot;content-type&quot; content=&quot;text/html; charset=UTF-8&quot; /&gt;\n",
       "    \n",
       "        &lt;script&gt;\n",
       "            L_NO_TOUCH = false;\n",
       "            L_DISABLE_3D = false;\n",
       "        &lt;/script&gt;\n",
       "    \n",
       "    &lt;style&gt;html, body {width: 100%;height: 100%;margin: 0;padding: 0;}&lt;/style&gt;\n",
       "    &lt;style&gt;#map {position:absolute;top:0;bottom:0;right:0;left:0;}&lt;/style&gt;\n",
       "    &lt;script src=&quot;https://cdn.jsdelivr.net/npm/leaflet@1.9.3/dist/leaflet.js&quot;&gt;&lt;/script&gt;\n",
       "    &lt;script src=&quot;https://code.jquery.com/jquery-3.7.1.min.js&quot;&gt;&lt;/script&gt;\n",
       "    &lt;script src=&quot;https://cdn.jsdelivr.net/npm/bootstrap@5.2.2/dist/js/bootstrap.bundle.min.js&quot;&gt;&lt;/script&gt;\n",
       "    &lt;script src=&quot;https://cdnjs.cloudflare.com/ajax/libs/Leaflet.awesome-markers/2.0.2/leaflet.awesome-markers.js&quot;&gt;&lt;/script&gt;\n",
       "    &lt;link rel=&quot;stylesheet&quot; href=&quot;https://cdn.jsdelivr.net/npm/leaflet@1.9.3/dist/leaflet.css&quot;/&gt;\n",
       "    &lt;link rel=&quot;stylesheet&quot; href=&quot;https://cdn.jsdelivr.net/npm/bootstrap@5.2.2/dist/css/bootstrap.min.css&quot;/&gt;\n",
       "    &lt;link rel=&quot;stylesheet&quot; href=&quot;https://netdna.bootstrapcdn.com/bootstrap/3.0.0/css/bootstrap-glyphicons.css&quot;/&gt;\n",
       "    &lt;link rel=&quot;stylesheet&quot; href=&quot;https://cdn.jsdelivr.net/npm/@fortawesome/fontawesome-free@6.2.0/css/all.min.css&quot;/&gt;\n",
       "    &lt;link rel=&quot;stylesheet&quot; href=&quot;https://cdnjs.cloudflare.com/ajax/libs/Leaflet.awesome-markers/2.0.2/leaflet.awesome-markers.css&quot;/&gt;\n",
       "    &lt;link rel=&quot;stylesheet&quot; href=&quot;https://cdn.jsdelivr.net/gh/python-visualization/folium/folium/templates/leaflet.awesome.rotate.min.css&quot;/&gt;\n",
       "    \n",
       "            &lt;meta name=&quot;viewport&quot; content=&quot;width=device-width,\n",
       "                initial-scale=1.0, maximum-scale=1.0, user-scalable=no&quot; /&gt;\n",
       "            &lt;style&gt;\n",
       "                #map_8e14e13bc6e4d21915589751afd71b56 {\n",
       "                    position: relative;\n",
       "                    width: 100.0%;\n",
       "                    height: 100.0%;\n",
       "                    left: 0.0%;\n",
       "                    top: 0.0%;\n",
       "                }\n",
       "                .leaflet-container { font-size: 1rem; }\n",
       "            &lt;/style&gt;\n",
       "        \n",
       "    \n",
       "                    &lt;style&gt;\n",
       "                        .foliumpopup {\n",
       "                            margin: auto;\n",
       "                        }\n",
       "                       .foliumpopup table{\n",
       "                            margin: auto;\n",
       "                        }\n",
       "                        .foliumpopup tr{\n",
       "                            text-align: left;\n",
       "                        }\n",
       "                        .foliumpopup th{\n",
       "                            padding: 2px; padding-right: 8px;\n",
       "                        }\n",
       "                    &lt;/style&gt;\n",
       "            \n",
       "&lt;/head&gt;\n",
       "&lt;body&gt;\n",
       "    \n",
       "    \n",
       "            &lt;div class=&quot;folium-map&quot; id=&quot;map_8e14e13bc6e4d21915589751afd71b56&quot; &gt;&lt;/div&gt;\n",
       "        \n",
       "&lt;/body&gt;\n",
       "&lt;script&gt;\n",
       "    \n",
       "    \n",
       "            var map_8e14e13bc6e4d21915589751afd71b56 = L.map(\n",
       "                &quot;map_8e14e13bc6e4d21915589751afd71b56&quot;,\n",
       "                {\n",
       "                    center: [0.0, 0.0],\n",
       "                    crs: L.CRS.EPSG3857,\n",
       "                    zoom: 1,\n",
       "                    zoomControl: true,\n",
       "                    preferCanvas: false,\n",
       "                }\n",
       "            );\n",
       "\n",
       "            \n",
       "\n",
       "        \n",
       "    \n",
       "            var tile_layer_05f4a958746cb80a3c4ed9cffdd98c91 = L.tileLayer(\n",
       "                &quot;https://tile.openstreetmap.org/{z}/{x}/{y}.png&quot;,\n",
       "                {&quot;attribution&quot;: &quot;\\u0026copy; \\u003ca href=\\&quot;https://www.openstreetmap.org/copyright\\&quot;\\u003eOpenStreetMap\\u003c/a\\u003e contributors&quot;, &quot;detectRetina&quot;: false, &quot;maxNativeZoom&quot;: 19, &quot;maxZoom&quot;: 19, &quot;minZoom&quot;: 0, &quot;noWrap&quot;: false, &quot;opacity&quot;: 1, &quot;subdomains&quot;: &quot;abc&quot;, &quot;tms&quot;: false}\n",
       "            );\n",
       "        \n",
       "    \n",
       "            tile_layer_05f4a958746cb80a3c4ed9cffdd98c91.addTo(map_8e14e13bc6e4d21915589751afd71b56);\n",
       "        \n",
       "    \n",
       "\n",
       "        function geo_json_585bda5636323483db6354e7c6a00e37_onEachFeature(feature, layer) {\n",
       "            layer.on({\n",
       "            });\n",
       "        };\n",
       "        var geo_json_585bda5636323483db6354e7c6a00e37 = L.geoJson(null, {\n",
       "                onEachFeature: geo_json_585bda5636323483db6354e7c6a00e37_onEachFeature,\n",
       "            \n",
       "        });\n",
       "\n",
       "        function geo_json_585bda5636323483db6354e7c6a00e37_add (data) {\n",
       "            geo_json_585bda5636323483db6354e7c6a00e37\n",
       "                .addData(data);\n",
       "        }\n",
       "            geo_json_585bda5636323483db6354e7c6a00e37_add({&quot;features&quot;: [{&quot;geometry&quot;: {&quot;coordinates&quot;: [-122.4194, 37.7749], &quot;type&quot;: &quot;Point&quot;}, &quot;properties&quot;: {&quot;country&quot;: &quot;USA&quot;, &quot;name&quot;: &quot;San Francisco&quot;}, &quot;type&quot;: &quot;Feature&quot;}, {&quot;geometry&quot;: {&quot;coordinates&quot;: [[-122.4194, 37.7749], [-74.006, 40.7128], [-0.1276, 51.5074]], &quot;type&quot;: &quot;LineString&quot;}, &quot;properties&quot;: {&quot;name&quot;: &quot;International Flight Path&quot;}, &quot;type&quot;: &quot;Feature&quot;}, {&quot;geometry&quot;: {&quot;coordinates&quot;: [[[-122.4194, 37.7749], [-122.4099, 37.7912], [-122.3984, 37.786], [-122.4082, 37.7694], [-122.4194, 37.7749]]], &quot;type&quot;: &quot;Polygon&quot;}, &quot;properties&quot;: {&quot;name&quot;: &quot;Golden Gate Park&quot;}, &quot;type&quot;: &quot;Feature&quot;}, {&quot;geometry&quot;: {&quot;coordinates&quot;: [[-122.0312, 37.3318], [-122.0842, 37.422], [-122.1484, 37.4848]], &quot;type&quot;: &quot;MultiPoint&quot;}, &quot;properties&quot;: {&quot;name&quot;: &quot;Tech Giants HQ&quot;}, &quot;type&quot;: &quot;Feature&quot;}, {&quot;geometry&quot;: {&quot;coordinates&quot;: [139.6917, 35.6895], &quot;type&quot;: &quot;Point&quot;}, &quot;properties&quot;: {&quot;country&quot;: &quot;Japan&quot;, &quot;name&quot;: &quot;Tokyo&quot;, &quot;population&quot;: 37400000}, &quot;type&quot;: &quot;Feature&quot;}, {&quot;geometry&quot;: {&quot;coordinates&quot;: [77.1025, 28.7041], &quot;type&quot;: &quot;Point&quot;}, &quot;properties&quot;: {&quot;country&quot;: &quot;India&quot;, &quot;name&quot;: &quot;Delhi&quot;, &quot;population&quot;: 31399000}, &quot;type&quot;: &quot;Feature&quot;}, {&quot;geometry&quot;: {&quot;coordinates&quot;: [121.4737, 31.2304], &quot;type&quot;: &quot;Point&quot;}, &quot;properties&quot;: {&quot;country&quot;: &quot;China&quot;, &quot;name&quot;: &quot;Shanghai&quot;, &quot;population&quot;: 27058000}, &quot;type&quot;: &quot;Feature&quot;}], &quot;type&quot;: &quot;FeatureCollection&quot;});\n",
       "        geo_json_585bda5636323483db6354e7c6a00e37.setStyle(function(feature) {return feature.properties.style;});\n",
       "\n",
       "        \n",
       "    \n",
       "    geo_json_585bda5636323483db6354e7c6a00e37.bindPopup(\n",
       "    function(layer){\n",
       "    let div = L.DomUtil.create(&#x27;div&#x27;);\n",
       "    \n",
       "    let handleObject = feature=&gt;typeof(feature)==&#x27;object&#x27; ? JSON.stringify(feature) : feature;\n",
       "    let fields = [&quot;name&quot;];\n",
       "    let aliases = [&quot;Name:&quot;];\n",
       "    let table = &#x27;&lt;table&gt;&#x27; +\n",
       "        String(\n",
       "        fields.map(\n",
       "        (v,i)=&gt;\n",
       "        `&lt;tr&gt;\n",
       "            &lt;th&gt;${aliases[i].toLocaleString()}&lt;/th&gt;\n",
       "            \n",
       "            &lt;td&gt;${handleObject(layer.feature.properties[v]).toLocaleString()}&lt;/td&gt;\n",
       "        &lt;/tr&gt;`).join(&#x27;&#x27;))\n",
       "    +&#x27;&lt;/table&gt;&#x27;;\n",
       "    div.innerHTML=table;\n",
       "    \n",
       "    return div\n",
       "    }\n",
       "    ,{&quot;className&quot;: &quot;foliumpopup&quot;});\n",
       "                     \n",
       "    \n",
       "            geo_json_585bda5636323483db6354e7c6a00e37.addTo(map_8e14e13bc6e4d21915589751afd71b56);\n",
       "        \n",
       "    \n",
       "        function geo_json_5bc5a8e577d7aa8ed8a9db9cad289890_styler(feature) {\n",
       "            switch(feature.id) {\n",
       "                default:\n",
       "                    return {&quot;color&quot;: &quot;red&quot;, &quot;fillColor&quot;: &quot;none&quot;, &quot;weight&quot;: 2};\n",
       "            }\n",
       "        }\n",
       "\n",
       "        function geo_json_5bc5a8e577d7aa8ed8a9db9cad289890_onEachFeature(feature, layer) {\n",
       "            layer.on({\n",
       "            });\n",
       "        };\n",
       "        var geo_json_5bc5a8e577d7aa8ed8a9db9cad289890 = L.geoJson(null, {\n",
       "                onEachFeature: geo_json_5bc5a8e577d7aa8ed8a9db9cad289890_onEachFeature,\n",
       "            \n",
       "                style: geo_json_5bc5a8e577d7aa8ed8a9db9cad289890_styler,\n",
       "        });\n",
       "\n",
       "        function geo_json_5bc5a8e577d7aa8ed8a9db9cad289890_add (data) {\n",
       "            geo_json_5bc5a8e577d7aa8ed8a9db9cad289890\n",
       "                .addData(data);\n",
       "        }\n",
       "            geo_json_5bc5a8e577d7aa8ed8a9db9cad289890_add({&quot;features&quot;: [{&quot;geometry&quot;: {&quot;coordinates&quot;: [[[-122.4194, 28.7041], [139.6917, 28.7041], [139.6917, 51.5074], [-122.4194, 51.5074], [-122.4194, 28.7041]]], &quot;type&quot;: &quot;Polygon&quot;}, &quot;id&quot;: &quot;0&quot;, &quot;type&quot;: &quot;Feature&quot;}], &quot;type&quot;: &quot;FeatureCollection&quot;});\n",
       "\n",
       "        \n",
       "    \n",
       "            geo_json_5bc5a8e577d7aa8ed8a9db9cad289890.addTo(map_8e14e13bc6e4d21915589751afd71b56);\n",
       "        \n",
       "    \n",
       "            map_8e14e13bc6e4d21915589751afd71b56.fitBounds(\n",
       "                [[28.7041, -122.4194], [51.5074, 139.6917]],\n",
       "                {}\n",
       "            );\n",
       "        \n",
       "&lt;/script&gt;\n",
       "&lt;/html&gt;\" style=\"position:absolute;width:100%;height:100%;left:0;top:0;border:none !important;\" allowfullscreen webkitallowfullscreen mozallowfullscreen></iframe></div></div>\n",
       "            </div>\n",
       "        </div>\n",
       "    "
      ]
     },
     "metadata": {},
     "output_type": "display_data"
    }
   ],
   "execution_count": 301
  },
  {
   "metadata": {},
   "cell_type": "markdown",
   "source": "### Review: How to merge lists",
   "id": "2c40f69e13ac2fcc"
  },
  {
   "metadata": {
    "ExecuteTime": {
     "end_time": "2024-10-23T01:54:34.410Z",
     "start_time": "2024-10-23T01:54:34.397463Z"
    }
   },
   "cell_type": "code",
   "source": [
    "list1 = [1,2,3]\n",
    "list_ele_append = [4,5]\n",
    "\n",
    "list_added = list1 + list_ele_append\n",
    "list_added"
   ],
   "id": "15d7785a6e83c689",
   "outputs": [
    {
     "data": {
      "text/plain": [
       "[1, 2, 3, 4, 5]"
      ]
     },
     "execution_count": 303,
     "metadata": {},
     "output_type": "execute_result"
    }
   ],
   "execution_count": 303
  }
 ],
 "metadata": {
  "kernelspec": {
   "display_name": "Python 3",
   "language": "python",
   "name": "python3"
  },
  "language_info": {
   "codemirror_mode": {
    "name": "ipython",
    "version": 2
   },
   "file_extension": ".py",
   "mimetype": "text/x-python",
   "name": "python",
   "nbconvert_exporter": "python",
   "pygments_lexer": "ipython2",
   "version": "2.7.6"
  }
 },
 "nbformat": 4,
 "nbformat_minor": 5
}
